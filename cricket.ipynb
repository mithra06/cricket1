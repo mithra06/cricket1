{
 "cells": [
  {
   "cell_type": "code",
   "execution_count": 2,
   "id": "411e8951",
   "metadata": {},
   "outputs": [
    {
     "name": "stdout",
     "output_type": "stream",
     "text": [
      "{'formats': [{'formatName': 'T20', 'formatDayType': 'Half day match', 'regions': [{'id': 666, 'name': 'north', 'isInternational': False, 'matches': [{'id': 6038, 'startTime': 1629944520, 'team1': 'T1', 'team2': 'T2', 'venue': 'V1', 'streaming': {'liveStream': {'provider': 'north-sky', 'channel': '001'}}, 'results': {'winner': 'T2', 'points': 2, 'resultsWithheld': False}, 'httpLink': 'cric/t20/north/t1vst2/v1/6038', 'isInternational': False}, {'id': 6039, 'startTime': 1629944520, 'team1': 'T2', 'team2': 'T3', 'venue': 'V2', 'streaming': {'liveStream': {'provider': 'north-sky', 'channel': '002'}}, 'results': {'winner': 'T2', 'points': 2, 'resultsWithheld': False}, 'httpLink': 'cric/t20/north/t2vst3/v2/6039', 'isInternational': False}, {'id': 6040, 'startTime': 1629944520, 'team1': 'T3', 'team2': 'T4', 'venue': 'V3', 'streaming': {'liveStream': {'provider': 'north-sky', 'channel': '003'}}, 'results': {'winner': 'T4', 'points': 2, 'resultsWithheld': False}, 'httpLink': 'cric/t20/north/t3vst4/v3/6040', 'isInternational': False}, {'id': 6041, 'startTime': 1629944520, 'team1': 'T4', 'team2': 'T1', 'venue': 'V4', 'streaming': {'liveStream': {'provider': 'north-sky', 'channel': '004'}}, 'results': {'winner': '', 'points': 0, 'resultsWithheld': True}, 'httpLink': 'cric/t20/north/t4vst1/v4/6041', 'isInternational': False}]}, {'id': 777, 'name': 'south', 'isInternational': False, 'streamingAvailable': False, 'matches': [{'id': 7038, 'startTime': 1629944520, 'team1': 'T5', 'team2': 'T6', 'venue': 'V5', 'streaming': {'liveStream': {'provider': 'south-sky', 'channel': '101'}}, 'results': {'winner': 'T6', 'points': 2, 'resultsWithheld': False}, 'httpLink': 'cric/t20/south/t5vst6/v5/7038', 'isInternational': False}, {'id': 7039, 'startTime': 1629944520, 'team1': 'T6', 'team2': 'T7', 'venue': 'V6', 'streaming': {'liveStream': {'provider': 'south-sky', 'channel': '102'}}, 'results': {'winner': '', 'points': 0, 'resultsWithheld': True}, 'httpLink': 'cric/t20/south/t6vst7/v6/7039', 'isInternational': False}, {'id': 7040, 'startTime': 1629944520, 'team1': 'T7', 'team2': 'T8', 'venue': 'V7', 'streaming': {'liveStream': {'provider': 'south-sky', 'channel': '103'}}, 'results': {'winner': 'T8', 'points': 2, 'resultsWithheld': False}, 'httpLink': 'cric/t20/south/t7vst8/v7/7040', 'isInternational': False}, {'id': 7041, 'startTime': 1629944520, 'team1': 'T8', 'team2': 'T5', 'venue': 'V8', 'streaming': {'liveStream': {'provider': 'south-sky', 'channel': '104'}}, 'results': {'winner': 'T8', 'points': 2, 'resultsWithheld': False}, 'httpLink': 'cric/t20/south/t8vst5/v8/7041', 'isInternational': False}]}, {'id': 888, 'name': 'central', 'isInternational': False, 'streamingAvailable': False, 'matches': [{'id': 8038, 'startTime': 1629944520, 'team1': 'T10', 'team2': 'T11', 'venue': 'V10', 'streaming': {'liveStream': {'provider': 'central-sky', 'channel': '201'}}, 'results': {'winner': 'T10', 'points': 2, 'resultsWithheld': False}, 'httpLink': 'cric/t20/central/t10vst11/v10/8038', 'isInternational': False}, {'id': 8039, 'startTime': 1629944520, 'team1': 'T11', 'team2': 'T12', 'venue': 'V11', 'streaming': {'liveStream': {'provider': 'central-sky', 'channel': '202'}}, 'results': {'winner': 'T12', 'points': 2, 'resultsWithheld': False}, 'httpLink': 'cric/t20/central/t11vst12/v11/8039', 'isInternational': False}, {'id': 8040, 'startTime': 1629944520, 'team1': 'T12', 'team2': 'T13', 'venue': 'V12', 'streaming': {'liveStream': {'provider': 'central-sky', 'channel': '203'}}, 'results': {'winner': 'T12', 'points': 2, 'resultsWithheld': False}, 'httpLink': 'cric/t20/central/t12vst13/v12/8040', 'isInternational': False}, {'id': 8041, 'startTime': 1629944520, 'team1': 'T13', 'team2': 'T10', 'venue': 'V13', 'streaming': {'liveStream': {'provider': 'central-sky', 'channel': '204'}}, 'results': {'winner': 'T10', 'points': 2, 'resultsWithheld': False}, 'httpLink': 'cric/t20/central/t13vst10/v13/8041', 'isInternational': False}]}]}, {'formatName': 'ODI', 'formatDayType': 'One day match', 'regions': [{'id': 999, 'name': 'NewZealand', 'isInternational': True, 'matches': [{'id': 16038, 'startTime': 1629944520, 'team1': 'T1', 'team2': 'T2', 'venue': 'NZ-V1', 'streaming': {'liveStream': {'provider': 'nz-ez', 'channel': '001'}}, 'results': {'winner': 'T2', 'points': 4, 'resultsWithheld': False}, 'httpLink': 'cric/odi/nz/t1vst2/v1/16038', 'isInternational': True}, {'id': 16039, 'startTime': 1629944520, 'team1': 'T2', 'team2': 'T3', 'venue': 'NZ-V2', 'streaming': {'liveStream': {'provider': 'nz-ez', 'channel': '002'}}, 'results': {'winner': 'T2', 'points': 4, 'resultsWithheld': False}, 'httpLink': 'cric/odi/nz/t2vst3/v2/16039', 'isInternational': True}, {'id': 16040, 'startTime': 1629944520, 'team1': 'T3', 'team2': 'T4', 'venue': 'NZ-V3', 'streaming': {'liveStream': {'provider': 'nz-ez', 'channel': '003'}}, 'results': {'winner': 'T4', 'points': 4, 'resultsWithheld': False}, 'httpLink': 'cric/odi/nz/t3vst4/v3/16040', 'isInternational': True}, {'id': 16041, 'startTime': 1629944520, 'team1': 'T4', 'team2': 'T1', 'venue': 'NZ-V4', 'streaming': {'liveStream': {'provider': 'nz-ez', 'channel': '004'}}, 'results': {'winner': 'T1', 'points': 4, 'resultsWithheld': False}, 'httpLink': 'cric/odi/nz/t4vst1/v4/16041', 'isInternational': True}]}, {'id': 777, 'name': 'south', 'isInternational': False, 'streamingAvailable': False, 'matches': [{'id': 17038, 'startTime': 1629944520, 'team1': 'T5', 'team2': 'T6', 'venue': 'V5', 'streaming': {'liveStream': {'provider': 'south-sky', 'channel': '101'}}, 'results': {'winner': 'T5', 'points': 4, 'resultsWithheld': False}, 'httpLink': 'cric/t20/south/t5vst6/v5/17038', 'isInternational': False}, {'id': 17039, 'startTime': 1629944520, 'team1': 'T6', 'team2': 'T7', 'venue': 'V6', 'streaming': {'liveStream': {'provider': 'south-sky', 'channel': '102'}}, 'results': {'winner': 'T6', 'points': 4, 'resultsWithheld': False}, 'httpLink': 'cric/t20/south/t6vst7/v6/17039', 'isInternational': False}, {'id': 17040, 'startTime': 1629944520, 'team1': 'T7', 'team2': 'T8', 'venue': 'V7', 'streaming': {'liveStream': {'provider': 'south-sky', 'channel': '103'}}, 'results': {'winner': '', 'points': 0, 'resultsWithheld': True}, 'httpLink': 'cric/t20/south/t7vst8/v7/17040', 'isInternational': False}, {'id': 17041, 'startTime': 1629944520, 'team1': 'T8', 'team2': 'T5', 'venue': 'V8', 'streaming': {'liveStream': {'provider': 'south-sky', 'channel': '104'}}, 'results': {'winner': 'T8', 'points': 4, 'resultsWithheld': False}, 'httpLink': 'cric/t20/south/t8vst5/v8/17041', 'isInternational': False}]}, {'id': 888, 'name': 'central', 'isInternational': False, 'matches': [{'id': 18038, 'startTime': 1629944520, 'team1': 'T10', 'team2': 'T11', 'venue': 'V10', 'streaming': {'liveStream': {'provider': 'central-sky', 'channel': '201'}}, 'results': {'winner': 'T10', 'points': 4, 'resultsWithheld': False}, 'streamingAvailable': False, 'availableStreamingType': None, 'httpLink': 'cric/t20/central/t10vst11/v10/18038', 'isInternational': False}, {'id': 18039, 'startTime': 1629944520, 'team1': 'T11', 'team2': 'T12', 'venue': 'V11', 'streaming': {'liveStream': {'provider': 'central-sky', 'channel': '202'}}, 'results': {'winner': 'T12', 'points': 4, 'resultsWithheld': False}, 'streamingAvailable': False, 'availableStreamingType': None, 'httpLink': 'cric/t20/central/t11vst12/v11/18039', 'isInternational': False}, {'id': 18040, 'startTime': 1629944520, 'team1': 'T12', 'team2': 'T13', 'venue': 'V12', 'streaming': {'liveStream': {'provider': 'central-sky', 'channel': '203'}}, 'results': {'winner': 'T12', 'points': 4, 'resultsWithheld': False}, 'streamingAvailable': False, 'availableStreamingType': None, 'httpLink': 'cric/t20/central/t12vst13/v12/18040', 'isInternational': False}, {'id': 18041, 'startTime': 1629944520, 'team1': 'T13', 'team2': 'T10', 'venue': 'V13', 'streaming': {'liveStream': {'provider': 'central-sky', 'channel': '204'}}, 'results': {'winner': 'T10', 'points': 4, 'resultsWithheld': False}, 'streamingAvailable': False, 'availableStreamingType': None, 'httpLink': 'cric/t20/central/t13vst10/v13/18041', 'isInternational': False}]}]}]}\n"
     ]
    }
   ],
   "source": [
    "import json\n",
    "f=open(\"py_challange_input.json\")\n",
    "data = json.load(f)\n",
    "  \n",
    "# Iterating through the json\n",
    "# list\n",
    "for i in data[\"Cricket\"]:\n",
    "    print(i)\n",
    "  \n",
    "# Closing file\n",
    "f.close()"
   ]
  },
  {
   "cell_type": "code",
   "execution_count": 112,
   "id": "631f1ff5",
   "metadata": {},
   "outputs": [
    {
     "name": "stderr",
     "output_type": "stream",
     "text": [
      "C:\\Users\\PradysSurface\\AppData\\Local\\Temp\\ipykernel_16256\\2039523039.py:20: FutureWarning: The frame.append method is deprecated and will be removed from pandas in a future version. Use pandas.concat instead.\n",
      "  df=df.append({\"match_id\":match_id, \"winner\":result, \"team1\":team1,\"team2\":team2,\"provider\":prov,\"link\":http,\"match_name\":name}\n"
     ]
    }
   ],
   "source": [
    "import json\n",
    "\n",
    "with open(\"py_challange_input.json\", 'r') as json_file:\n",
    "    json_load = json.load(json_file)\n",
    "\n",
    "data = json_load['Cricket']\n",
    "for i in data:\n",
    "    ind=i['formats'][0]['regions']\n",
    "    \n",
    "    for match in ind:\n",
    "        match_id=match['matches'][0]['id']\n",
    "        name=match[\"name\"]\n",
    "        team1=match['matches'][0][\"team1\"]\n",
    "        team2=match['matches'][0][\"team2\"]\n",
    "        prov=match['matches'][0][\"streaming\"][\"liveStream\"][\"provider\"]\n",
    "        \n",
    "        result=match['matches'][0]['results'][\"winner\"]\n",
    "        http=match['matches'][0][\"httpLink\"]\n",
    "        #print (match_id,name,team1,team2,prov,result,http)\n",
    "df=df.append({\"match_id\":match_id, \"winner\":result, \"team1\":team1,\"team2\":team2,\"provider\":prov,\"link\":http,\"match_name\":name}\n",
    "            ,ignore_index=True)\n",
    "\n",
    "\n",
    "\n"
   ]
  },
  {
   "cell_type": "code",
   "execution_count": null,
   "id": "5dbf2522",
   "metadata": {},
   "outputs": [],
   "source": []
  }
 ],
 "metadata": {
  "kernelspec": {
   "display_name": "Python 3 (ipykernel)",
   "language": "python",
   "name": "python3"
  },
  "language_info": {
   "codemirror_mode": {
    "name": "ipython",
    "version": 3
   },
   "file_extension": ".py",
   "mimetype": "text/x-python",
   "name": "python",
   "nbconvert_exporter": "python",
   "pygments_lexer": "ipython3",
   "version": "3.9.13"
  }
 },
 "nbformat": 4,
 "nbformat_minor": 5
}
